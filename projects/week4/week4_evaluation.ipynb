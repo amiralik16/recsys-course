{
  "cells": [
    {
      "cell_type": "code",
      "execution_count": 1,
      "id": "837dcaa9-cc0b-4345-bbee-3a09683decf9",
      "metadata": {
        "id": "837dcaa9-cc0b-4345-bbee-3a09683decf9"
      },
      "outputs": [],
      "source": [
        "import numpy as np\n",
        "import pandas as pd\n",
        "from sklearn.metrics import dcg_score,ndcg_score\n",
        "from collections import OrderedDict"
      ]
    },
    {
      "cell_type": "markdown",
      "id": "41f1f7cb-9441-4fe1-962e-9e4cb3e3c192",
      "metadata": {
        "id": "41f1f7cb-9441-4fe1-962e-9e4cb3e3c192"
      },
      "source": [
        "# **Welcome to week 4 project!**\n",
        "\n",
        "Welcome to the last week of the course -- so excited to see that you've made it to the end! 👏 \n",
        "\n",
        "We’ve already discussed the importance of measuring model performance. As Lord Kelvin said, “To measure is to know – If you cannot measure it, you cannot improve it.” And he was right – metrics are the only way we can actually evaluate our model’s performance!\n",
        "\n",
        "In this week's project, we will touch upon two key aspects related to evaluation:\n",
        "1. Behavioral metrics\n",
        "2. Off-policy evaluation\n",
        "\n",
        "For behavioral metrics, we will work with Spotify music sessions dataset, and implement a few behavioral metrics and understand their relationships with traditional metrics.\n",
        "\n",
        "For off-policy evaluation, we will simulate a dataset where we have logged action policies, and see how IPS is implemented.\n"
      ]
    },
    {
      "cell_type": "markdown",
      "id": "6b7e1f07-9f25-4fbf-8c9f-cd0a2524ac12",
      "metadata": {
        "id": "6b7e1f07-9f25-4fbf-8c9f-cd0a2524ac12"
      },
      "source": [
        "### Goals for this week's project:\n",
        "\n",
        "For this week's project assignment, we will complete the following tasks:\n",
        "1. Implement 3 behavioral metrics and present the correlation plot for them\n",
        "2. Implement another ranking logic (e.g. sort by track popularity, or sort by danceability and compare all metrics on productional ranking logic and this new ranking logic.\n",
        "3. Complete the implementation of two off-policy estimators: Capped IPS and Normalized Capped Importance Sampling (NCIS)\n"
      ]
    },
    {
      "cell_type": "markdown",
      "id": "d0e01328-6834-4b11-85c1-03867e1d4860",
      "metadata": {
        "tags": [],
        "id": "d0e01328-6834-4b11-85c1-03867e1d4860"
      },
      "source": [
        "# Part A: Behavioral metrics\n",
        "\n",
        "Behavioral metrics include factors like what items a user interacts with and how, the amount of time they spend on the platform, and how they spend that time.\n",
        "\n",
        "To define and implement a few behavioral metrics, we will work with the Spotify music sessions dataset.\n",
        "Download the dataset from GDrive: https://drive.google.com/drive/folders/10LGZMgXRuz2qPr_QDbYdVVlKEcnQ25YL?usp=sharing\n",
        "(files: log_mini.cvs and tf_mini.csv)\n",
        "\n",
        "## Spotify music sessions dataset\n",
        "\n",
        "The public part of the dataset consists of roughly 130 million listening sessions with associated user interactions on the Spotify service. In total, users interacted with almost 4 million tracks during these sessions, and the dataset includes acoustic features and metadata for all of these tracks.\n",
        "\n",
        "Detailed description of the dataset can be found here:\n",
        "https://drive.google.com/file/d/1BELTuH4nBeyHna5EAGzJv-HWHKrbxPsf/view?usp=sharing\n",
        "\n"
      ]
    },
    {
      "cell_type": "code",
      "source": [
        "!gdown --folder https://drive.google.com/drive/folders/10LGZMgXRuz2qPr_QDbYdVVlKEcnQ25YL?usp=sharing -O ./"
      ],
      "metadata": {
        "colab": {
          "base_uri": "https://localhost:8080/"
        },
        "id": "XfSETB-PHhOl",
        "outputId": "302cb8b6-ad21-4ff6-cefd-d253979c6cbb"
      },
      "id": "XfSETB-PHhOl",
      "execution_count": 2,
      "outputs": [
        {
          "output_type": "stream",
          "name": "stdout",
          "text": [
            "Retrieving folder list\n",
            "Processing file 1_jFxa2s7ONQ7nrhqFc1lARP6WChs2T4e data1.txt\n",
            "Processing file 1rEJFi98sLUTYj50Fh8ff33A7NKOoT87c hmdata.zip\n",
            "Processing file 1D3RyRBKBaw0KbLxpJUQDjVIt5CLpE2n9 log_mini.csv\n",
            "Processing file 1BELTuH4nBeyHna5EAGzJv-HWHKrbxPsf Spotify-dataset-description.pdf\n",
            "Processing file 1Z8N0Xf9M34PuN4V5G5uAxasvOCm6TVp4 tf_mini.csv\n",
            "Retrieving folder list completed\n",
            "Building directory structure\n",
            "Building directory structure completed\n",
            "Downloading...\n",
            "From: https://drive.google.com/uc?id=1_jFxa2s7ONQ7nrhqFc1lARP6WChs2T4e\n",
            "To: /content/data/data1.txt\n",
            "100% 158M/158M [00:01<00:00, 112MB/s]\n",
            "Downloading...\n",
            "From: https://drive.google.com/uc?id=1rEJFi98sLUTYj50Fh8ff33A7NKOoT87c\n",
            "To: /content/data/hmdata.zip\n",
            "100% 773M/773M [00:07<00:00, 105MB/s] \n",
            "Downloading...\n",
            "From: https://drive.google.com/uc?id=1D3RyRBKBaw0KbLxpJUQDjVIt5CLpE2n9\n",
            "To: /content/data/log_mini.csv\n",
            "100% 28.9M/28.9M [00:00<00:00, 151MB/s] \n",
            "Downloading...\n",
            "From: https://drive.google.com/uc?id=1BELTuH4nBeyHna5EAGzJv-HWHKrbxPsf\n",
            "To: /content/data/Spotify-dataset-description.pdf\n",
            "100% 176k/176k [00:00<00:00, 73.9MB/s]\n",
            "Downloading...\n",
            "From: https://drive.google.com/uc?id=1Z8N0Xf9M34PuN4V5G5uAxasvOCm6TVp4\n",
            "To: /content/data/tf_mini.csv\n",
            "100% 28.0M/28.0M [00:00<00:00, 149MB/s]\n",
            "Download completed\n"
          ]
        }
      ]
    },
    {
      "cell_type": "code",
      "execution_count": 6,
      "id": "88eb3b58-062c-4c96-b3f0-2db4407ce1b3",
      "metadata": {
        "id": "88eb3b58-062c-4c96-b3f0-2db4407ce1b3"
      },
      "outputs": [],
      "source": [
        "log = pd.read_csv(\"data/log_mini.csv\")\n",
        "tracks = pd.read_csv(\"data/tf_mini.csv\")"
      ]
    },
    {
      "cell_type": "code",
      "execution_count": 7,
      "id": "4e67f877-5e02-4fe2-aa1f-20124fb9c465",
      "metadata": {
        "id": "4e67f877-5e02-4fe2-aa1f-20124fb9c465",
        "outputId": "736b74e8-215d-4781-bb3b-81e105e70461",
        "colab": {
          "base_uri": "https://localhost:8080/",
          "height": 310
        }
      },
      "outputs": [
        {
          "output_type": "execute_result",
          "data": {
            "text/plain": [
              "                               session_id  session_position  session_length  \\\n",
              "0  0_00006f66-33e5-4de7-a324-2d18e439fc1e                 1              20   \n",
              "1  0_00006f66-33e5-4de7-a324-2d18e439fc1e                 2              20   \n",
              "\n",
              "                           track_id_clean  skip_1  skip_2  skip_3  \\\n",
              "0  t_0479f24c-27d2-46d6-a00c-7ec928f2b539   False   False   False   \n",
              "1  t_9099cd7b-c238-47b7-9381-f23f2c1d1043   False   False   False   \n",
              "\n",
              "   not_skipped  context_switch  no_pause_before_play  ...  \\\n",
              "0         True               0                     0  ...   \n",
              "1         True               0                     1  ...   \n",
              "\n",
              "   long_pause_before_play  hist_user_behavior_n_seekfwd  \\\n",
              "0                       0                             0   \n",
              "1                       0                             0   \n",
              "\n",
              "   hist_user_behavior_n_seekback  hist_user_behavior_is_shuffle  hour_of_day  \\\n",
              "0                              0                           True           16   \n",
              "1                              0                           True           16   \n",
              "\n",
              "         date premium        context_type hist_user_behavior_reason_start  \\\n",
              "0  2018-07-15    True  editorial_playlist                       trackdone   \n",
              "1  2018-07-15    True  editorial_playlist                       trackdone   \n",
              "\n",
              "  hist_user_behavior_reason_end  \n",
              "0                     trackdone  \n",
              "1                     trackdone  \n",
              "\n",
              "[2 rows x 21 columns]"
            ],
            "text/html": [
              "\n",
              "  <div id=\"df-ffb94275-61b0-43d9-9cfc-31bed731a6e5\">\n",
              "    <div class=\"colab-df-container\">\n",
              "      <div>\n",
              "<style scoped>\n",
              "    .dataframe tbody tr th:only-of-type {\n",
              "        vertical-align: middle;\n",
              "    }\n",
              "\n",
              "    .dataframe tbody tr th {\n",
              "        vertical-align: top;\n",
              "    }\n",
              "\n",
              "    .dataframe thead th {\n",
              "        text-align: right;\n",
              "    }\n",
              "</style>\n",
              "<table border=\"1\" class=\"dataframe\">\n",
              "  <thead>\n",
              "    <tr style=\"text-align: right;\">\n",
              "      <th></th>\n",
              "      <th>session_id</th>\n",
              "      <th>session_position</th>\n",
              "      <th>session_length</th>\n",
              "      <th>track_id_clean</th>\n",
              "      <th>skip_1</th>\n",
              "      <th>skip_2</th>\n",
              "      <th>skip_3</th>\n",
              "      <th>not_skipped</th>\n",
              "      <th>context_switch</th>\n",
              "      <th>no_pause_before_play</th>\n",
              "      <th>...</th>\n",
              "      <th>long_pause_before_play</th>\n",
              "      <th>hist_user_behavior_n_seekfwd</th>\n",
              "      <th>hist_user_behavior_n_seekback</th>\n",
              "      <th>hist_user_behavior_is_shuffle</th>\n",
              "      <th>hour_of_day</th>\n",
              "      <th>date</th>\n",
              "      <th>premium</th>\n",
              "      <th>context_type</th>\n",
              "      <th>hist_user_behavior_reason_start</th>\n",
              "      <th>hist_user_behavior_reason_end</th>\n",
              "    </tr>\n",
              "  </thead>\n",
              "  <tbody>\n",
              "    <tr>\n",
              "      <th>0</th>\n",
              "      <td>0_00006f66-33e5-4de7-a324-2d18e439fc1e</td>\n",
              "      <td>1</td>\n",
              "      <td>20</td>\n",
              "      <td>t_0479f24c-27d2-46d6-a00c-7ec928f2b539</td>\n",
              "      <td>False</td>\n",
              "      <td>False</td>\n",
              "      <td>False</td>\n",
              "      <td>True</td>\n",
              "      <td>0</td>\n",
              "      <td>0</td>\n",
              "      <td>...</td>\n",
              "      <td>0</td>\n",
              "      <td>0</td>\n",
              "      <td>0</td>\n",
              "      <td>True</td>\n",
              "      <td>16</td>\n",
              "      <td>2018-07-15</td>\n",
              "      <td>True</td>\n",
              "      <td>editorial_playlist</td>\n",
              "      <td>trackdone</td>\n",
              "      <td>trackdone</td>\n",
              "    </tr>\n",
              "    <tr>\n",
              "      <th>1</th>\n",
              "      <td>0_00006f66-33e5-4de7-a324-2d18e439fc1e</td>\n",
              "      <td>2</td>\n",
              "      <td>20</td>\n",
              "      <td>t_9099cd7b-c238-47b7-9381-f23f2c1d1043</td>\n",
              "      <td>False</td>\n",
              "      <td>False</td>\n",
              "      <td>False</td>\n",
              "      <td>True</td>\n",
              "      <td>0</td>\n",
              "      <td>1</td>\n",
              "      <td>...</td>\n",
              "      <td>0</td>\n",
              "      <td>0</td>\n",
              "      <td>0</td>\n",
              "      <td>True</td>\n",
              "      <td>16</td>\n",
              "      <td>2018-07-15</td>\n",
              "      <td>True</td>\n",
              "      <td>editorial_playlist</td>\n",
              "      <td>trackdone</td>\n",
              "      <td>trackdone</td>\n",
              "    </tr>\n",
              "  </tbody>\n",
              "</table>\n",
              "<p>2 rows × 21 columns</p>\n",
              "</div>\n",
              "      <button class=\"colab-df-convert\" onclick=\"convertToInteractive('df-ffb94275-61b0-43d9-9cfc-31bed731a6e5')\"\n",
              "              title=\"Convert this dataframe to an interactive table.\"\n",
              "              style=\"display:none;\">\n",
              "        \n",
              "  <svg xmlns=\"http://www.w3.org/2000/svg\" height=\"24px\"viewBox=\"0 0 24 24\"\n",
              "       width=\"24px\">\n",
              "    <path d=\"M0 0h24v24H0V0z\" fill=\"none\"/>\n",
              "    <path d=\"M18.56 5.44l.94 2.06.94-2.06 2.06-.94-2.06-.94-.94-2.06-.94 2.06-2.06.94zm-11 1L8.5 8.5l.94-2.06 2.06-.94-2.06-.94L8.5 2.5l-.94 2.06-2.06.94zm10 10l.94 2.06.94-2.06 2.06-.94-2.06-.94-.94-2.06-.94 2.06-2.06.94z\"/><path d=\"M17.41 7.96l-1.37-1.37c-.4-.4-.92-.59-1.43-.59-.52 0-1.04.2-1.43.59L10.3 9.45l-7.72 7.72c-.78.78-.78 2.05 0 2.83L4 21.41c.39.39.9.59 1.41.59.51 0 1.02-.2 1.41-.59l7.78-7.78 2.81-2.81c.8-.78.8-2.07 0-2.86zM5.41 20L4 18.59l7.72-7.72 1.47 1.35L5.41 20z\"/>\n",
              "  </svg>\n",
              "      </button>\n",
              "      \n",
              "  <style>\n",
              "    .colab-df-container {\n",
              "      display:flex;\n",
              "      flex-wrap:wrap;\n",
              "      gap: 12px;\n",
              "    }\n",
              "\n",
              "    .colab-df-convert {\n",
              "      background-color: #E8F0FE;\n",
              "      border: none;\n",
              "      border-radius: 50%;\n",
              "      cursor: pointer;\n",
              "      display: none;\n",
              "      fill: #1967D2;\n",
              "      height: 32px;\n",
              "      padding: 0 0 0 0;\n",
              "      width: 32px;\n",
              "    }\n",
              "\n",
              "    .colab-df-convert:hover {\n",
              "      background-color: #E2EBFA;\n",
              "      box-shadow: 0px 1px 2px rgba(60, 64, 67, 0.3), 0px 1px 3px 1px rgba(60, 64, 67, 0.15);\n",
              "      fill: #174EA6;\n",
              "    }\n",
              "\n",
              "    [theme=dark] .colab-df-convert {\n",
              "      background-color: #3B4455;\n",
              "      fill: #D2E3FC;\n",
              "    }\n",
              "\n",
              "    [theme=dark] .colab-df-convert:hover {\n",
              "      background-color: #434B5C;\n",
              "      box-shadow: 0px 1px 3px 1px rgba(0, 0, 0, 0.15);\n",
              "      filter: drop-shadow(0px 1px 2px rgba(0, 0, 0, 0.3));\n",
              "      fill: #FFFFFF;\n",
              "    }\n",
              "  </style>\n",
              "\n",
              "      <script>\n",
              "        const buttonEl =\n",
              "          document.querySelector('#df-ffb94275-61b0-43d9-9cfc-31bed731a6e5 button.colab-df-convert');\n",
              "        buttonEl.style.display =\n",
              "          google.colab.kernel.accessAllowed ? 'block' : 'none';\n",
              "\n",
              "        async function convertToInteractive(key) {\n",
              "          const element = document.querySelector('#df-ffb94275-61b0-43d9-9cfc-31bed731a6e5');\n",
              "          const dataTable =\n",
              "            await google.colab.kernel.invokeFunction('convertToInteractive',\n",
              "                                                     [key], {});\n",
              "          if (!dataTable) return;\n",
              "\n",
              "          const docLinkHtml = 'Like what you see? Visit the ' +\n",
              "            '<a target=\"_blank\" href=https://colab.research.google.com/notebooks/data_table.ipynb>data table notebook</a>'\n",
              "            + ' to learn more about interactive tables.';\n",
              "          element.innerHTML = '';\n",
              "          dataTable['output_type'] = 'display_data';\n",
              "          await google.colab.output.renderOutput(dataTable, element);\n",
              "          const docLink = document.createElement('div');\n",
              "          docLink.innerHTML = docLinkHtml;\n",
              "          element.appendChild(docLink);\n",
              "        }\n",
              "      </script>\n",
              "    </div>\n",
              "  </div>\n",
              "  "
            ]
          },
          "metadata": {},
          "execution_count": 7
        }
      ],
      "source": [
        "log.head(2)"
      ]
    },
    {
      "cell_type": "code",
      "execution_count": 8,
      "id": "a0539616-fdd7-4cb5-920e-bddb315a9b5d",
      "metadata": {
        "id": "a0539616-fdd7-4cb5-920e-bddb315a9b5d",
        "outputId": "76a006f4-864e-4884-9b37-a1e6d44b7cc6",
        "colab": {
          "base_uri": "https://localhost:8080/",
          "height": 310
        }
      },
      "outputs": [
        {
          "output_type": "execute_result",
          "data": {
            "text/plain": [
              "                                 track_id    duration  release_year  \\\n",
              "0  t_a540e552-16d4-42f8-a185-232bd650ea7d  109.706673          1950   \n",
              "1  t_67965da0-132b-4b1e-8a69-0ef99b32287c  187.693329          1950   \n",
              "\n",
              "   us_popularity_estimate  acousticness  beat_strength  bounciness  \\\n",
              "0               99.975414      0.458040       0.519497    0.504949   \n",
              "1               99.969430      0.916272       0.419223    0.545530   \n",
              "\n",
              "   danceability  dyn_range_mean    energy  ...  time_signature   valence  \\\n",
              "0      0.399767        7.511880  0.817709  ...               4  0.935512   \n",
              "1      0.491235        9.098376  0.154258  ...               3  0.359675   \n",
              "\n",
              "   acoustic_vector_0  acoustic_vector_1  acoustic_vector_2  acoustic_vector_3  \\\n",
              "0          -0.033284          -0.411896           -0.02858           0.349438   \n",
              "1           0.145703          -0.850372            0.12386           0.746904   \n",
              "\n",
              "  acoustic_vector_4  acoustic_vector_5  acoustic_vector_6  acoustic_vector_7  \n",
              "0          0.832467          -0.213871          -0.299464          -0.675907  \n",
              "1          0.371803          -0.420558          -0.213120          -0.525795  \n",
              "\n",
              "[2 rows x 30 columns]"
            ],
            "text/html": [
              "\n",
              "  <div id=\"df-86d6b5af-c329-4b69-a760-080eeb2905e5\">\n",
              "    <div class=\"colab-df-container\">\n",
              "      <div>\n",
              "<style scoped>\n",
              "    .dataframe tbody tr th:only-of-type {\n",
              "        vertical-align: middle;\n",
              "    }\n",
              "\n",
              "    .dataframe tbody tr th {\n",
              "        vertical-align: top;\n",
              "    }\n",
              "\n",
              "    .dataframe thead th {\n",
              "        text-align: right;\n",
              "    }\n",
              "</style>\n",
              "<table border=\"1\" class=\"dataframe\">\n",
              "  <thead>\n",
              "    <tr style=\"text-align: right;\">\n",
              "      <th></th>\n",
              "      <th>track_id</th>\n",
              "      <th>duration</th>\n",
              "      <th>release_year</th>\n",
              "      <th>us_popularity_estimate</th>\n",
              "      <th>acousticness</th>\n",
              "      <th>beat_strength</th>\n",
              "      <th>bounciness</th>\n",
              "      <th>danceability</th>\n",
              "      <th>dyn_range_mean</th>\n",
              "      <th>energy</th>\n",
              "      <th>...</th>\n",
              "      <th>time_signature</th>\n",
              "      <th>valence</th>\n",
              "      <th>acoustic_vector_0</th>\n",
              "      <th>acoustic_vector_1</th>\n",
              "      <th>acoustic_vector_2</th>\n",
              "      <th>acoustic_vector_3</th>\n",
              "      <th>acoustic_vector_4</th>\n",
              "      <th>acoustic_vector_5</th>\n",
              "      <th>acoustic_vector_6</th>\n",
              "      <th>acoustic_vector_7</th>\n",
              "    </tr>\n",
              "  </thead>\n",
              "  <tbody>\n",
              "    <tr>\n",
              "      <th>0</th>\n",
              "      <td>t_a540e552-16d4-42f8-a185-232bd650ea7d</td>\n",
              "      <td>109.706673</td>\n",
              "      <td>1950</td>\n",
              "      <td>99.975414</td>\n",
              "      <td>0.458040</td>\n",
              "      <td>0.519497</td>\n",
              "      <td>0.504949</td>\n",
              "      <td>0.399767</td>\n",
              "      <td>7.511880</td>\n",
              "      <td>0.817709</td>\n",
              "      <td>...</td>\n",
              "      <td>4</td>\n",
              "      <td>0.935512</td>\n",
              "      <td>-0.033284</td>\n",
              "      <td>-0.411896</td>\n",
              "      <td>-0.02858</td>\n",
              "      <td>0.349438</td>\n",
              "      <td>0.832467</td>\n",
              "      <td>-0.213871</td>\n",
              "      <td>-0.299464</td>\n",
              "      <td>-0.675907</td>\n",
              "    </tr>\n",
              "    <tr>\n",
              "      <th>1</th>\n",
              "      <td>t_67965da0-132b-4b1e-8a69-0ef99b32287c</td>\n",
              "      <td>187.693329</td>\n",
              "      <td>1950</td>\n",
              "      <td>99.969430</td>\n",
              "      <td>0.916272</td>\n",
              "      <td>0.419223</td>\n",
              "      <td>0.545530</td>\n",
              "      <td>0.491235</td>\n",
              "      <td>9.098376</td>\n",
              "      <td>0.154258</td>\n",
              "      <td>...</td>\n",
              "      <td>3</td>\n",
              "      <td>0.359675</td>\n",
              "      <td>0.145703</td>\n",
              "      <td>-0.850372</td>\n",
              "      <td>0.12386</td>\n",
              "      <td>0.746904</td>\n",
              "      <td>0.371803</td>\n",
              "      <td>-0.420558</td>\n",
              "      <td>-0.213120</td>\n",
              "      <td>-0.525795</td>\n",
              "    </tr>\n",
              "  </tbody>\n",
              "</table>\n",
              "<p>2 rows × 30 columns</p>\n",
              "</div>\n",
              "      <button class=\"colab-df-convert\" onclick=\"convertToInteractive('df-86d6b5af-c329-4b69-a760-080eeb2905e5')\"\n",
              "              title=\"Convert this dataframe to an interactive table.\"\n",
              "              style=\"display:none;\">\n",
              "        \n",
              "  <svg xmlns=\"http://www.w3.org/2000/svg\" height=\"24px\"viewBox=\"0 0 24 24\"\n",
              "       width=\"24px\">\n",
              "    <path d=\"M0 0h24v24H0V0z\" fill=\"none\"/>\n",
              "    <path d=\"M18.56 5.44l.94 2.06.94-2.06 2.06-.94-2.06-.94-.94-2.06-.94 2.06-2.06.94zm-11 1L8.5 8.5l.94-2.06 2.06-.94-2.06-.94L8.5 2.5l-.94 2.06-2.06.94zm10 10l.94 2.06.94-2.06 2.06-.94-2.06-.94-.94-2.06-.94 2.06-2.06.94z\"/><path d=\"M17.41 7.96l-1.37-1.37c-.4-.4-.92-.59-1.43-.59-.52 0-1.04.2-1.43.59L10.3 9.45l-7.72 7.72c-.78.78-.78 2.05 0 2.83L4 21.41c.39.39.9.59 1.41.59.51 0 1.02-.2 1.41-.59l7.78-7.78 2.81-2.81c.8-.78.8-2.07 0-2.86zM5.41 20L4 18.59l7.72-7.72 1.47 1.35L5.41 20z\"/>\n",
              "  </svg>\n",
              "      </button>\n",
              "      \n",
              "  <style>\n",
              "    .colab-df-container {\n",
              "      display:flex;\n",
              "      flex-wrap:wrap;\n",
              "      gap: 12px;\n",
              "    }\n",
              "\n",
              "    .colab-df-convert {\n",
              "      background-color: #E8F0FE;\n",
              "      border: none;\n",
              "      border-radius: 50%;\n",
              "      cursor: pointer;\n",
              "      display: none;\n",
              "      fill: #1967D2;\n",
              "      height: 32px;\n",
              "      padding: 0 0 0 0;\n",
              "      width: 32px;\n",
              "    }\n",
              "\n",
              "    .colab-df-convert:hover {\n",
              "      background-color: #E2EBFA;\n",
              "      box-shadow: 0px 1px 2px rgba(60, 64, 67, 0.3), 0px 1px 3px 1px rgba(60, 64, 67, 0.15);\n",
              "      fill: #174EA6;\n",
              "    }\n",
              "\n",
              "    [theme=dark] .colab-df-convert {\n",
              "      background-color: #3B4455;\n",
              "      fill: #D2E3FC;\n",
              "    }\n",
              "\n",
              "    [theme=dark] .colab-df-convert:hover {\n",
              "      background-color: #434B5C;\n",
              "      box-shadow: 0px 1px 3px 1px rgba(0, 0, 0, 0.15);\n",
              "      filter: drop-shadow(0px 1px 2px rgba(0, 0, 0, 0.3));\n",
              "      fill: #FFFFFF;\n",
              "    }\n",
              "  </style>\n",
              "\n",
              "      <script>\n",
              "        const buttonEl =\n",
              "          document.querySelector('#df-86d6b5af-c329-4b69-a760-080eeb2905e5 button.colab-df-convert');\n",
              "        buttonEl.style.display =\n",
              "          google.colab.kernel.accessAllowed ? 'block' : 'none';\n",
              "\n",
              "        async function convertToInteractive(key) {\n",
              "          const element = document.querySelector('#df-86d6b5af-c329-4b69-a760-080eeb2905e5');\n",
              "          const dataTable =\n",
              "            await google.colab.kernel.invokeFunction('convertToInteractive',\n",
              "                                                     [key], {});\n",
              "          if (!dataTable) return;\n",
              "\n",
              "          const docLinkHtml = 'Like what you see? Visit the ' +\n",
              "            '<a target=\"_blank\" href=https://colab.research.google.com/notebooks/data_table.ipynb>data table notebook</a>'\n",
              "            + ' to learn more about interactive tables.';\n",
              "          element.innerHTML = '';\n",
              "          dataTable['output_type'] = 'display_data';\n",
              "          await google.colab.output.renderOutput(dataTable, element);\n",
              "          const docLink = document.createElement('div');\n",
              "          docLink.innerHTML = docLinkHtml;\n",
              "          element.appendChild(docLink);\n",
              "        }\n",
              "      </script>\n",
              "    </div>\n",
              "  </div>\n",
              "  "
            ]
          },
          "metadata": {},
          "execution_count": 8
        }
      ],
      "source": [
        "tracks.head(2)"
      ]
    },
    {
      "cell_type": "markdown",
      "id": "aba926f1-1f49-4b9d-b358-b780132f0070",
      "metadata": {
        "id": "aba926f1-1f49-4b9d-b358-b780132f0070"
      },
      "source": [
        "### Traditional metrics: ndcg@k\n",
        "\n",
        "We will use the log dataframe as the main dataframe for evaluation of metrics. The skip_1 flag can be used as a relevance signal -- if the user found the recommendation relevant, skip_1 = False. With this relevance signal, we can compute simple ndcg metrics -- one for each session and then averaged across all sessions. This will serve as a base metric for comparison.\n",
        "\n",
        "Note: the ranking logic here is assumed to be the production ranker, i.e. sorting by session_position gives the exact order of tracks the Spotify ranker presented to the user.\n",
        "\n",
        "Lets compute simple skip rate and ndcg metric for the production ranker:"
      ]
    },
    {
      "cell_type": "code",
      "execution_count": 9,
      "id": "394f3143-545a-4f4f-a5c6-01e717b60371",
      "metadata": {
        "id": "394f3143-545a-4f4f-a5c6-01e717b60371",
        "outputId": "986e365b-82d8-4073-fb95-b81233b7fd32",
        "colab": {
          "base_uri": "https://localhost:8080/"
        }
      },
      "outputs": [
        {
          "output_type": "stream",
          "name": "stdout",
          "text": [
            "average skip rate in the session:  0.40894\n"
          ]
        }
      ],
      "source": [
        "topk = 10\n",
        "\n",
        "skip_rate_session = log.groupby('session_id').apply(lambda x: x.nsmallest(topk,['session_position'])).reset_index(drop = True).groupby(\"session_id\").skip_1.mean().mean()\n",
        "print(\"average skip rate in the session: \",skip_rate_session)"
      ]
    },
    {
      "cell_type": "code",
      "execution_count": 34,
      "id": "c41ace73-6c5a-4bba-ac5e-06d1d270b70c",
      "metadata": {
        "id": "c41ace73-6c5a-4bba-ac5e-06d1d270b70c",
        "outputId": "682d8b64-c12c-48bb-dd89-5fff390d3a19",
        "colab": {
          "base_uri": "https://localhost:8080/"
        }
      },
      "outputs": [
        {
          "output_type": "stream",
          "name": "stdout",
          "text": [
            "NDCG@k, with k=  5  is:  0.8235700606177565\n",
            "NDCG@k, with k=  10  is:  0.8330266041453142\n"
          ]
        }
      ],
      "source": [
        "topk = 10\n",
        "\n",
        "def get_ndcg(df):\n",
        "    true_relevance = np.asarray(1-np.asarray(df['skip_1']*1.0))\n",
        "    ranker_scores = np.asarray(1/np.asarray(df['session_position'])) # approximate the ranker scores using the session position\n",
        "    return(ndcg_score([true_relevance], [ranker_scores]))\n",
        "\n",
        "\n",
        "ndcg_5 = log.groupby('session_id').apply(lambda x: x.nsmallest(5,['session_position'])).reset_index(drop = True).groupby(\"session_id\").apply(get_ndcg)\n",
        "ndcg_10 = log.groupby('session_id').apply(lambda x: x.nsmallest(10,['session_position'])).reset_index(drop = True).groupby(\"session_id\").apply(get_ndcg)\n",
        "\n",
        "print(\"NDCG@k, with k= \",5,\" is: \",ndcg_5.mean())\n",
        "print(\"NDCG@k, with k= \",10,\" is: \",ndcg_10.mean())"
      ]
    },
    {
      "cell_type": "markdown",
      "id": "85f93877-750a-476d-b530-96659c5a8bd5",
      "metadata": {
        "id": "85f93877-750a-476d-b530-96659c5a8bd5"
      },
      "source": [
        "## Goals for this week:\n",
        "\n",
        "Implement a few behavioral metrics and compare their correlations. We will implement the following three metrics:\n",
        "1. *Time to first skip:* how long did it take for the user to get the first bad recommendation, i.e. a recommendation they skipped. Since we can't easily calculate time, we can use number of songs as a proxy and compute the metric as number of songs it took for the first skip.\n",
        "\n",
        "2. *Sustained dissatisfaction:* we assume that the user is dissatisfied in a sustained manner if they skip 3 songs consecutively.\n",
        "\n",
        "3. *Session coherence:* we define coherence as how similar the recommended musical tracks are. We can use the acoustic_vector of the music tracks to calculate the similarity."
      ]
    },
    {
      "cell_type": "code",
      "execution_count": 16,
      "id": "b8eba1c0-5ef0-40eb-9cbd-18df57607747",
      "metadata": {
        "id": "b8eba1c0-5ef0-40eb-9cbd-18df57607747",
        "colab": {
          "base_uri": "https://localhost:8080/"
        },
        "outputId": "0b7d4e95-c680-4a98-a289-b4fd02d04f9f"
      },
      "outputs": [
        {
          "output_type": "stream",
          "name": "stdout",
          "text": [
            "Time to first skip, with k=  5  is:  2.3261474269819193\n",
            "Time to first skip, with k=  10  is:  3.3045645033412616\n"
          ]
        }
      ],
      "source": [
        "# implement session metric 1: time to first skip (number of songs to first skip)\n",
        "def get_time_to_first_skip(df):\n",
        "    time_to_first_skip = None\n",
        "    skipped_tracks = df[df.skip_1 == True]\n",
        "    if not skipped_tracks.empty:\n",
        "      time_to_first_skip = df[df.skip_1 == True].sort_values('session_position', ascending=True).session_position.iloc[0]\n",
        "    return time_to_first_skip\n",
        "\n",
        "ttfs_5 = log.groupby('session_id').apply(lambda x: x.nsmallest(5,['session_position'])).reset_index(drop = True).groupby(\"session_id\").apply(get_time_to_first_skip)\n",
        "ttfs_10 = log.groupby('session_id').apply(lambda x: x.nsmallest(10,['session_position'])).reset_index(drop = True).groupby(\"session_id\").apply(get_time_to_first_skip)\n",
        "print(\"Time to first skip, with k= \",5,\" is: \",ttfs_5.mean())\n",
        "print(\"Time to first skip, with k= \",10,\" is: \",ttfs_10.mean())"
      ]
    },
    {
      "cell_type": "code",
      "execution_count": 20,
      "id": "aabd3d1a-8710-4883-88f5-bf3f926ebba3",
      "metadata": {
        "id": "aabd3d1a-8710-4883-88f5-bf3f926ebba3",
        "colab": {
          "base_uri": "https://localhost:8080/"
        },
        "outputId": "9f94a6d4-a89f-44fa-c110-d38c724be739"
      },
      "outputs": [
        {
          "output_type": "stream",
          "name": "stdout",
          "text": [
            "sustained dissatisfaction, with k=  5  is:  0.2876\n",
            "sustained dissatisfaction, with k=  10  is:  0.4733\n"
          ]
        }
      ],
      "source": [
        "# implement session metric 2: sustained dissatisfaction: proportions of sessions with 3 consecutive skips\n",
        "\n",
        "def get_sustained_dissatisfaction(df):\n",
        "    dissatisfaction = False\n",
        "    skipped_tracks = df[df.skip_1 == True]\n",
        "    if not skipped_tracks.empty:\n",
        "      if len(skipped_tracks) < 3:\n",
        "        pass\n",
        "      else:\n",
        "        sorted_skipped_ranks = sorted(skipped_tracks.session_position.values)\n",
        "        curr_rank = sorted_skipped_ranks[0]\n",
        "        sequence_len = 1\n",
        "        for rank in sorted_skipped_ranks[1:]:\n",
        "          if rank == curr_rank+1:\n",
        "            sequence_len += 1\n",
        "\n",
        "          else:\n",
        "            sequence_len = 0\n",
        "\n",
        "          if sequence_len == 3:\n",
        "            dissatisfaction = True\n",
        "            break\n",
        "  \n",
        "          curr_rank = rank\n",
        "\n",
        "    return dissatisfaction\n",
        "          \n",
        "\n",
        "\n",
        "sd_5 = log.groupby('session_id').apply(lambda x: x.nsmallest(5,['session_position'])).reset_index(drop = True).groupby(\"session_id\").apply(get_sustained_dissatisfaction)\n",
        "sd_10 = log.groupby('session_id').apply(lambda x: x.nsmallest(10,['session_position'])).reset_index(drop = True).groupby(\"session_id\").apply(get_sustained_dissatisfaction)\n",
        "print(\"sustained dissatisfaction, with k= \",5,\" is: \",sd_5.mean())\n",
        "print(\"sustained dissatisfaction, with k= \",10,\" is: \",sd_10.mean())"
      ]
    },
    {
      "cell_type": "code",
      "execution_count": 33,
      "id": "5f41f788-daf7-44a4-9612-178f190e58bd",
      "metadata": {
        "id": "5f41f788-daf7-44a4-9612-178f190e58bd",
        "colab": {
          "base_uri": "https://localhost:8080/"
        },
        "outputId": "27d7303e-119d-44e1-a160-ea66e3d19989"
      },
      "outputs": [
        {
          "output_type": "stream",
          "name": "stdout",
          "text": [
            "session coherence, with k=  5  is:  0.8587308988805195\n",
            "session coherence, with k=  10  is:  0.8356709936623354\n"
          ]
        }
      ],
      "source": [
        "# implement session metric 3: session coherence: average similarity between the top recommended tracks\n",
        "\n",
        "from sklearn.metrics.pairwise import cosine_similarity\n",
        "from functools import partial\n",
        "\n",
        "\n",
        "def get_session_coherence(df, track_to_vector_df):\n",
        "\n",
        "    tracks = track_to_vector_df.loc[df.track_id_clean]\n",
        "\n",
        "    return cosine_similarity(tracks.values).mean()\n",
        "\n",
        "\n",
        "\n",
        "vector_columns = tracks.columns[tracks.columns.str.startswith('acoustic_vector')]\n",
        "track_to_vector_df = tracks.set_index('track_id')[vector_columns]\n",
        "\n",
        "partialed_get_session_coherence = partial(get_session_coherence, track_to_vector_df=track_to_vector_df)\n",
        "\n",
        "sc_5 = log.groupby('session_id').apply(lambda x: x.nsmallest(5,['session_position'])).reset_index(drop = True).groupby(\"session_id\").apply(partialed_get_session_coherence)\n",
        "sc_10 = log.groupby('session_id').apply(lambda x: x.nsmallest(10,['session_position'])).reset_index(drop = True).groupby(\"session_id\").apply(partialed_get_session_coherence)\n",
        "print(\"session coherence, with k= \",5,\" is: \",sc_5.mean())\n",
        "print(\"session coherence, with k= \",10,\" is: \",sc_10.mean())"
      ]
    },
    {
      "cell_type": "markdown",
      "id": "26c7ffa6-2c35-45c0-9d6d-78ab11f30632",
      "metadata": {
        "id": "26c7ffa6-2c35-45c0-9d6d-78ab11f30632"
      },
      "source": [
        "Once these metrics are implemented, compute these metrics for topk=5 and topk=10 compare their estimates for the production ranker as a correlation plot. Please note which metrics are correlated with ndcg metric.\n",
        "\n",
        "**Additional goal:**\n",
        "Implement another simple ranking logic, and compare the performance of both the production ranker and new ranking policy on the ndcg and three behavioral metrics.\n",
        "A simple ranking policy could include sortby track popularity, or sort by danceability score for the track.\n",
        "\n",
        "Please report the performance of these rankers on all four metrics."
      ]
    },
    {
      "cell_type": "code",
      "source": [
        "import seaborn as sns"
      ],
      "metadata": {
        "id": "KZ8fLfvw_Dj5"
      },
      "id": "KZ8fLfvw_Dj5",
      "execution_count": 38,
      "outputs": []
    },
    {
      "cell_type": "code",
      "execution_count": 39,
      "id": "6b518677-2ffd-4e9e-97cc-7de494ac8543",
      "metadata": {
        "id": "6b518677-2ffd-4e9e-97cc-7de494ac8543",
        "colab": {
          "base_uri": "https://localhost:8080/",
          "height": 560
        },
        "outputId": "9251d00e-4bfd-4bf0-d441-fc8008ba5d45"
      },
      "outputs": [
        {
          "output_type": "display_data",
          "data": {
            "text/plain": [
              "                               ndcg      ttfs  sustained_dissatisfaction  \\\n",
              "ndcg                       1.000000  0.672649                  -0.515863   \n",
              "ttfs                       0.672649  1.000000                  -0.365552   \n",
              "sustained_dissatisfaction -0.515863 -0.365552                   1.000000   \n",
              "session_coherence          0.017673  0.004558                  -0.008863   \n",
              "\n",
              "                           session_coherence  \n",
              "ndcg                                0.017673  \n",
              "ttfs                                0.004558  \n",
              "sustained_dissatisfaction          -0.008863  \n",
              "session_coherence                   1.000000  "
            ],
            "text/html": [
              "\n",
              "  <div id=\"df-1c7e2de7-92fa-44b0-a992-9eb452c28a77\">\n",
              "    <div class=\"colab-df-container\">\n",
              "      <div>\n",
              "<style scoped>\n",
              "    .dataframe tbody tr th:only-of-type {\n",
              "        vertical-align: middle;\n",
              "    }\n",
              "\n",
              "    .dataframe tbody tr th {\n",
              "        vertical-align: top;\n",
              "    }\n",
              "\n",
              "    .dataframe thead th {\n",
              "        text-align: right;\n",
              "    }\n",
              "</style>\n",
              "<table border=\"1\" class=\"dataframe\">\n",
              "  <thead>\n",
              "    <tr style=\"text-align: right;\">\n",
              "      <th></th>\n",
              "      <th>ndcg</th>\n",
              "      <th>ttfs</th>\n",
              "      <th>sustained_dissatisfaction</th>\n",
              "      <th>session_coherence</th>\n",
              "    </tr>\n",
              "  </thead>\n",
              "  <tbody>\n",
              "    <tr>\n",
              "      <th>ndcg</th>\n",
              "      <td>1.000000</td>\n",
              "      <td>0.672649</td>\n",
              "      <td>-0.515863</td>\n",
              "      <td>0.017673</td>\n",
              "    </tr>\n",
              "    <tr>\n",
              "      <th>ttfs</th>\n",
              "      <td>0.672649</td>\n",
              "      <td>1.000000</td>\n",
              "      <td>-0.365552</td>\n",
              "      <td>0.004558</td>\n",
              "    </tr>\n",
              "    <tr>\n",
              "      <th>sustained_dissatisfaction</th>\n",
              "      <td>-0.515863</td>\n",
              "      <td>-0.365552</td>\n",
              "      <td>1.000000</td>\n",
              "      <td>-0.008863</td>\n",
              "    </tr>\n",
              "    <tr>\n",
              "      <th>session_coherence</th>\n",
              "      <td>0.017673</td>\n",
              "      <td>0.004558</td>\n",
              "      <td>-0.008863</td>\n",
              "      <td>1.000000</td>\n",
              "    </tr>\n",
              "  </tbody>\n",
              "</table>\n",
              "</div>\n",
              "      <button class=\"colab-df-convert\" onclick=\"convertToInteractive('df-1c7e2de7-92fa-44b0-a992-9eb452c28a77')\"\n",
              "              title=\"Convert this dataframe to an interactive table.\"\n",
              "              style=\"display:none;\">\n",
              "        \n",
              "  <svg xmlns=\"http://www.w3.org/2000/svg\" height=\"24px\"viewBox=\"0 0 24 24\"\n",
              "       width=\"24px\">\n",
              "    <path d=\"M0 0h24v24H0V0z\" fill=\"none\"/>\n",
              "    <path d=\"M18.56 5.44l.94 2.06.94-2.06 2.06-.94-2.06-.94-.94-2.06-.94 2.06-2.06.94zm-11 1L8.5 8.5l.94-2.06 2.06-.94-2.06-.94L8.5 2.5l-.94 2.06-2.06.94zm10 10l.94 2.06.94-2.06 2.06-.94-2.06-.94-.94-2.06-.94 2.06-2.06.94z\"/><path d=\"M17.41 7.96l-1.37-1.37c-.4-.4-.92-.59-1.43-.59-.52 0-1.04.2-1.43.59L10.3 9.45l-7.72 7.72c-.78.78-.78 2.05 0 2.83L4 21.41c.39.39.9.59 1.41.59.51 0 1.02-.2 1.41-.59l7.78-7.78 2.81-2.81c.8-.78.8-2.07 0-2.86zM5.41 20L4 18.59l7.72-7.72 1.47 1.35L5.41 20z\"/>\n",
              "  </svg>\n",
              "      </button>\n",
              "      \n",
              "  <style>\n",
              "    .colab-df-container {\n",
              "      display:flex;\n",
              "      flex-wrap:wrap;\n",
              "      gap: 12px;\n",
              "    }\n",
              "\n",
              "    .colab-df-convert {\n",
              "      background-color: #E8F0FE;\n",
              "      border: none;\n",
              "      border-radius: 50%;\n",
              "      cursor: pointer;\n",
              "      display: none;\n",
              "      fill: #1967D2;\n",
              "      height: 32px;\n",
              "      padding: 0 0 0 0;\n",
              "      width: 32px;\n",
              "    }\n",
              "\n",
              "    .colab-df-convert:hover {\n",
              "      background-color: #E2EBFA;\n",
              "      box-shadow: 0px 1px 2px rgba(60, 64, 67, 0.3), 0px 1px 3px 1px rgba(60, 64, 67, 0.15);\n",
              "      fill: #174EA6;\n",
              "    }\n",
              "\n",
              "    [theme=dark] .colab-df-convert {\n",
              "      background-color: #3B4455;\n",
              "      fill: #D2E3FC;\n",
              "    }\n",
              "\n",
              "    [theme=dark] .colab-df-convert:hover {\n",
              "      background-color: #434B5C;\n",
              "      box-shadow: 0px 1px 3px 1px rgba(0, 0, 0, 0.15);\n",
              "      filter: drop-shadow(0px 1px 2px rgba(0, 0, 0, 0.3));\n",
              "      fill: #FFFFFF;\n",
              "    }\n",
              "  </style>\n",
              "\n",
              "      <script>\n",
              "        const buttonEl =\n",
              "          document.querySelector('#df-1c7e2de7-92fa-44b0-a992-9eb452c28a77 button.colab-df-convert');\n",
              "        buttonEl.style.display =\n",
              "          google.colab.kernel.accessAllowed ? 'block' : 'none';\n",
              "\n",
              "        async function convertToInteractive(key) {\n",
              "          const element = document.querySelector('#df-1c7e2de7-92fa-44b0-a992-9eb452c28a77');\n",
              "          const dataTable =\n",
              "            await google.colab.kernel.invokeFunction('convertToInteractive',\n",
              "                                                     [key], {});\n",
              "          if (!dataTable) return;\n",
              "\n",
              "          const docLinkHtml = 'Like what you see? Visit the ' +\n",
              "            '<a target=\"_blank\" href=https://colab.research.google.com/notebooks/data_table.ipynb>data table notebook</a>'\n",
              "            + ' to learn more about interactive tables.';\n",
              "          element.innerHTML = '';\n",
              "          dataTable['output_type'] = 'display_data';\n",
              "          await google.colab.output.renderOutput(dataTable, element);\n",
              "          const docLink = document.createElement('div');\n",
              "          docLink.innerHTML = docLinkHtml;\n",
              "          element.appendChild(docLink);\n",
              "        }\n",
              "      </script>\n",
              "    </div>\n",
              "  </div>\n",
              "  "
            ]
          },
          "metadata": {}
        },
        {
          "output_type": "execute_result",
          "data": {
            "text/plain": [
              "<matplotlib.axes._subplots.AxesSubplot at 0x7fb44f0dd690>"
            ]
          },
          "metadata": {},
          "execution_count": 39
        },
        {
          "output_type": "display_data",
          "data": {
            "text/plain": [
              "<Figure size 432x288 with 2 Axes>"
            ],
            "image/png": "[encoded data removed]"
          },
          "metadata": {
            "needs_background": "light"
          }
        }
      ],
      "source": [
        "res_dict_5 = {'ndcg': ndcg_5, 'ttfs': ttfs_5, 'sustained_dissatisfaction': sd_5, 'session_coherence': sc_5}\n",
        "comp_df = pd.DataFrame(res_dict_5)\n",
        "corr = comp_df.corr()\n",
        "display(corr)\n",
        "sns.heatmap(corr, annot=True)"
      ]
    },
    {
      "cell_type": "code",
      "execution_count": 40,
      "id": "5a9bef72-0d7f-41c3-a36e-fa18dbc28b41",
      "metadata": {
        "id": "5a9bef72-0d7f-41c3-a36e-fa18dbc28b41",
        "colab": {
          "base_uri": "https://localhost:8080/",
          "height": 560
        },
        "outputId": "7a29412b-d154-474d-ae7f-a554468eeb7b"
      },
      "outputs": [
        {
          "output_type": "display_data",
          "data": {
            "text/plain": [
              "                               ndcg      ttfs  sustained_dissatisfaction  \\\n",
              "ndcg                       1.000000  0.611427                  -0.414332   \n",
              "ttfs                       0.611427  1.000000                  -0.288189   \n",
              "sustained_dissatisfaction -0.414332 -0.288189                   1.000000   \n",
              "session_coherence          0.017214 -0.000822                  -0.008598   \n",
              "\n",
              "                           session_coherence  \n",
              "ndcg                                0.017214  \n",
              "ttfs                               -0.000822  \n",
              "sustained_dissatisfaction          -0.008598  \n",
              "session_coherence                   1.000000  "
            ],
            "text/html": [
              "\n",
              "  <div id=\"df-ceea9cf7-1762-4fa1-b16f-9f82b20b5508\">\n",
              "    <div class=\"colab-df-container\">\n",
              "      <div>\n",
              "<style scoped>\n",
              "    .dataframe tbody tr th:only-of-type {\n",
              "        vertical-align: middle;\n",
              "    }\n",
              "\n",
              "    .dataframe tbody tr th {\n",
              "        vertical-align: top;\n",
              "    }\n",
              "\n",
              "    .dataframe thead th {\n",
              "        text-align: right;\n",
              "    }\n",
              "</style>\n",
              "<table border=\"1\" class=\"dataframe\">\n",
              "  <thead>\n",
              "    <tr style=\"text-align: right;\">\n",
              "      <th></th>\n",
              "      <th>ndcg</th>\n",
              "      <th>ttfs</th>\n",
              "      <th>sustained_dissatisfaction</th>\n",
              "      <th>session_coherence</th>\n",
              "    </tr>\n",
              "  </thead>\n",
              "  <tbody>\n",
              "    <tr>\n",
              "      <th>ndcg</th>\n",
              "      <td>1.000000</td>\n",
              "      <td>0.611427</td>\n",
              "      <td>-0.414332</td>\n",
              "      <td>0.017214</td>\n",
              "    </tr>\n",
              "    <tr>\n",
              "      <th>ttfs</th>\n",
              "      <td>0.611427</td>\n",
              "      <td>1.000000</td>\n",
              "      <td>-0.288189</td>\n",
              "      <td>-0.000822</td>\n",
              "    </tr>\n",
              "    <tr>\n",
              "      <th>sustained_dissatisfaction</th>\n",
              "      <td>-0.414332</td>\n",
              "      <td>-0.288189</td>\n",
              "      <td>1.000000</td>\n",
              "      <td>-0.008598</td>\n",
              "    </tr>\n",
              "    <tr>\n",
              "      <th>session_coherence</th>\n",
              "      <td>0.017214</td>\n",
              "      <td>-0.000822</td>\n",
              "      <td>-0.008598</td>\n",
              "      <td>1.000000</td>\n",
              "    </tr>\n",
              "  </tbody>\n",
              "</table>\n",
              "</div>\n",
              "      <button class=\"colab-df-convert\" onclick=\"convertToInteractive('df-ceea9cf7-1762-4fa1-b16f-9f82b20b5508')\"\n",
              "              title=\"Convert this dataframe to an interactive table.\"\n",
              "              style=\"display:none;\">\n",
              "        \n",
              "  <svg xmlns=\"http://www.w3.org/2000/svg\" height=\"24px\"viewBox=\"0 0 24 24\"\n",
              "       width=\"24px\">\n",
              "    <path d=\"M0 0h24v24H0V0z\" fill=\"none\"/>\n",
              "    <path d=\"M18.56 5.44l.94 2.06.94-2.06 2.06-.94-2.06-.94-.94-2.06-.94 2.06-2.06.94zm-11 1L8.5 8.5l.94-2.06 2.06-.94-2.06-.94L8.5 2.5l-.94 2.06-2.06.94zm10 10l.94 2.06.94-2.06 2.06-.94-2.06-.94-.94-2.06-.94 2.06-2.06.94z\"/><path d=\"M17.41 7.96l-1.37-1.37c-.4-.4-.92-.59-1.43-.59-.52 0-1.04.2-1.43.59L10.3 9.45l-7.72 7.72c-.78.78-.78 2.05 0 2.83L4 21.41c.39.39.9.59 1.41.59.51 0 1.02-.2 1.41-.59l7.78-7.78 2.81-2.81c.8-.78.8-2.07 0-2.86zM5.41 20L4 18.59l7.72-7.72 1.47 1.35L5.41 20z\"/>\n",
              "  </svg>\n",
              "      </button>\n",
              "      \n",
              "  <style>\n",
              "    .colab-df-container {\n",
              "      display:flex;\n",
              "      flex-wrap:wrap;\n",
              "      gap: 12px;\n",
              "    }\n",
              "\n",
              "    .colab-df-convert {\n",
              "      background-color: #E8F0FE;\n",
              "      border: none;\n",
              "      border-radius: 50%;\n",
              "      cursor: pointer;\n",
              "      display: none;\n",
              "      fill: #1967D2;\n",
              "      height: 32px;\n",
              "      padding: 0 0 0 0;\n",
              "      width: 32px;\n",
              "    }\n",
              "\n",
              "    .colab-df-convert:hover {\n",
              "      background-color: #E2EBFA;\n",
              "      box-shadow: 0px 1px 2px rgba(60, 64, 67, 0.3), 0px 1px 3px 1px rgba(60, 64, 67, 0.15);\n",
              "      fill: #174EA6;\n",
              "    }\n",
              "\n",
              "    [theme=dark] .colab-df-convert {\n",
              "      background-color: #3B4455;\n",
              "      fill: #D2E3FC;\n",
              "    }\n",
              "\n",
              "    [theme=dark] .colab-df-convert:hover {\n",
              "      background-color: #434B5C;\n",
              "      box-shadow: 0px 1px 3px 1px rgba(0, 0, 0, 0.15);\n",
              "      filter: drop-shadow(0px 1px 2px rgba(0, 0, 0, 0.3));\n",
              "      fill: #FFFFFF;\n",
              "    }\n",
              "  </style>\n",
              "\n",
              "      <script>\n",
              "        const buttonEl =\n",
              "          document.querySelector('#df-ceea9cf7-1762-4fa1-b16f-9f82b20b5508 button.colab-df-convert');\n",
              "        buttonEl.style.display =\n",
              "          google.colab.kernel.accessAllowed ? 'block' : 'none';\n",
              "\n",
              "        async function convertToInteractive(key) {\n",
              "          const element = document.querySelector('#df-ceea9cf7-1762-4fa1-b16f-9f82b20b5508');\n",
              "          const dataTable =\n",
              "            await google.colab.kernel.invokeFunction('convertToInteractive',\n",
              "                                                     [key], {});\n",
              "          if (!dataTable) return;\n",
              "\n",
              "          const docLinkHtml = 'Like what you see? Visit the ' +\n",
              "            '<a target=\"_blank\" href=https://colab.research.google.com/notebooks/data_table.ipynb>data table notebook</a>'\n",
              "            + ' to learn more about interactive tables.';\n",
              "          element.innerHTML = '';\n",
              "          dataTable['output_type'] = 'display_data';\n",
              "          await google.colab.output.renderOutput(dataTable, element);\n",
              "          const docLink = document.createElement('div');\n",
              "          docLink.innerHTML = docLinkHtml;\n",
              "          element.appendChild(docLink);\n",
              "        }\n",
              "      </script>\n",
              "    </div>\n",
              "  </div>\n",
              "  "
            ]
          },
          "metadata": {}
        },
        {
          "output_type": "execute_result",
          "data": {
            "text/plain": [
              "<matplotlib.axes._subplots.AxesSubplot at 0x7fb451e46510>"
            ]
          },
          "metadata": {},
          "execution_count": 40
        },
        {
          "output_type": "display_data",
          "data": {
            "text/plain": [
              "<Figure size 432x288 with 2 Axes>"
            ],
            "image/png": "[encoded data removed]"
          },
          "metadata": {
            "needs_background": "light"
          }
        }
      ],
      "source": [
        "res_dict_10 = {'ndcg': ndcg_10, 'ttfs': ttfs_10, 'sustained_dissatisfaction': sd_10, 'session_coherence': sc_10}\n",
        "comp_df = pd.DataFrame(res_dict_10)\n",
        "corr = comp_df.corr()\n",
        "display(corr)\n",
        "sns.heatmap(corr, annot=True)"
      ]
    },
    {
      "cell_type": "code",
      "execution_count": null,
      "id": "8cd9ae14-8a5e-4fc7-b69b-ed9279021422",
      "metadata": {
        "id": "8cd9ae14-8a5e-4fc7-b69b-ed9279021422"
      },
      "outputs": [],
      "source": [
        ""
      ]
    },
    {
      "cell_type": "markdown",
      "id": "b7e4812d-3b39-4def-a293-7da0297f32a1",
      "metadata": {
        "id": "b7e4812d-3b39-4def-a293-7da0297f32a1"
      },
      "source": [
        "# Part B: Off Policy Evaluation\n",
        "\n",
        "We log listener behavior based on the recommendations that the production recommender serves to the listener. Using this data to assess any new recommender system, however, can present challenges – the production recommender and the new recommender can drastically differ in the results that they display to the user. For example, maybe the new recommender presents a lot of niche content, while the production recommender presents a lot of popular options. This can be an issue when evaluating a new recommender – If you don’t have any feedback on a recommendation because you never presented it to a user, how can you evaluate whether it’s a good recommendation?\n",
        "If you have a new policy to test that’s very similar to your old approach, then this won’t be an issue, and it’ll be easy to test! However, if the policy is very different, then you’ll need to collect special logged data.\n",
        "\n",
        "In this part of the project, we will simulate a recommendation policy and leverage counterfactual estimators as metrics to compare performance.\n"
      ]
    },
    {
      "cell_type": "markdown",
      "id": "16ddd6a0-4481-4221-a36d-577276d8b728",
      "metadata": {
        "id": "16ddd6a0-4481-4221-a36d-577276d8b728"
      },
      "source": [
        "Lets first begin by generating a few users and products. For ease of simulation, we assume users derive equal satisfaction from each item."
      ]
    },
    {
      "cell_type": "code",
      "execution_count": 69,
      "id": "539cfda5-98eb-415c-a98b-ccb9acc22031",
      "metadata": {
        "id": "539cfda5-98eb-415c-a98b-ccb9acc22031"
      },
      "outputs": [],
      "source": [
        "\n",
        "users = np.array([\"user1\", \"user2\", \"user3\"])\n",
        "products = np.array(\n",
        "    [\n",
        "        \"product_a\",\n",
        "        \"product_b\",\n",
        "        \"product_c\",\n",
        "        \"product_d\",\n",
        "        \"product_e\",\n",
        "        \"product_f\",\n",
        "        \"product_g\",\n",
        "    ]\n",
        ")\n",
        "\n",
        "satisfaction = {\n",
        "    \"product_a\": 100,\n",
        "    \"product_b\": 150,\n",
        "    \"product_c\": 100,\n",
        "    \"product_d\": 200,\n",
        "    \"product_e\": 500,\n",
        "    \"product_f\": 120,\n",
        "    \"product_g\": 160,\n",
        "}\n",
        "\n"
      ]
    },
    {
      "cell_type": "markdown",
      "id": "1a77fd2c-7586-4ea5-9e28-67d6f3050bab",
      "metadata": {
        "id": "1a77fd2c-7586-4ea5-9e28-67d6f3050bab"
      },
      "source": [
        "Lets also implement whether a given user will accept a given recommendation or not. Once done, we can implement a target policy that makes recommendations."
      ]
    },
    {
      "cell_type": "code",
      "execution_count": 70,
      "id": "fd59b6ef-5d27-47b5-8b39-8adfd8eae51d",
      "metadata": {
        "id": "fd59b6ef-5d27-47b5-8b39-8adfd8eae51d"
      },
      "outputs": [],
      "source": [
        "\n",
        "def will_purchase(user, product):\n",
        "    if user == \"user1\" and (\n",
        "        product == \"product_a\" or product == \"product_b\" or product == \"product_c\"\n",
        "    ):\n",
        "        return True\n",
        "    elif user == \"user2\" and (product == \"product_d\" or product == \"product_e\"):\n",
        "        return True\n",
        "    elif user == \"user3\" and (product == \"product_f\" or product == \"product_g\"):\n",
        "        return True\n",
        "    else:\n",
        "        return False\n",
        "\n",
        "\n",
        "def choose_user():\n",
        "    return np.random.choice(users, size=1)\n",
        "\n",
        "\n",
        "def logging_policy():\n",
        "    return np.random.choice(products, size=1), 1 / len(products)\n",
        "\n",
        "\n",
        "class TargetPolicy:\n",
        "    def __init__(self):\n",
        "        self.user_probs = {\n",
        "            \"user1\": np.array([0.1, 0.1, 0.2, 0.1, 0.15, 0.15, 0.20]),\n",
        "            \"user2\": np.array([0.1, 0.10, 0.05, 0.25, 0.3, 0.1, 0.1]),\n",
        "            \"user3\": np.array([0.06, 0.06, 0.3, 0.06, 0.06, 0.4, 0.06]),\n",
        "        }\n",
        "\n",
        "        for user, probs in self.user_probs.items():\n",
        "            assert probs.sum() == 1\n",
        "            assert len(probs) == len(products)\n",
        "\n",
        "    def recommend(self, user):\n",
        "        user_prob = self.user_probs[user]\n",
        "        product = np.random.choice(products, size=1, p=user_prob)\n",
        "        product_idx = np.where(products == product)\n",
        "        prob = user_prob[product_idx]\n",
        "\n",
        "        return product, prob\n",
        "\n",
        "    def get_prob(self, user, product):\n",
        "        user_prob = self.user_probs[user]\n",
        "        product_idx = np.where(products == product)\n",
        "        product_prob = user_prob[product_idx]\n",
        "\n",
        "        return product_prob\n",
        "\n"
      ]
    },
    {
      "cell_type": "markdown",
      "id": "b0d1d10d-a993-42fb-a26c-106a46001719",
      "metadata": {
        "id": "b0d1d10d-a993-42fb-a26c-106a46001719"
      },
      "source": [
        "Having defined all key components of the dataset generation, lets create logged data that we can finally use for evaluation purposes:"
      ]
    },
    {
      "cell_type": "code",
      "execution_count": 71,
      "id": "e78f2bd2-5ad1-4b9e-87b5-abad2b3098a2",
      "metadata": {
        "id": "e78f2bd2-5ad1-4b9e-87b5-abad2b3098a2"
      },
      "outputs": [],
      "source": [
        "def compute_satisfaction(user, product):\n",
        "    if will_purchase(user, product):\n",
        "        return satisfaction[product.item()]\n",
        "    else:\n",
        "        return 0\n",
        "\n",
        "\n",
        "def create_logs(n=1000):\n",
        "    logs = []\n",
        "    target_policy = TargetPolicy()\n",
        "\n",
        "    for _ in range(n):\n",
        "        user = choose_user()\n",
        "\n",
        "        logging_product, logging_prob = logging_policy()\n",
        "        model_prob = target_policy.get_prob(user.item(), logging_product)\n",
        "\n",
        "        target_product, _ = target_policy.recommend(user.item())\n",
        "\n",
        "        logging_satisfaction = compute_satisfaction(user, logging_product)\n",
        "        target_satisfaction = compute_satisfaction(user, target_product)\n",
        "\n",
        "        log = OrderedDict(\n",
        "            {\n",
        "                \"user_features\": user.item(),\n",
        "                \"item_placed\": logging_product.item(),\n",
        "                \"item_prob\": logging_prob,\n",
        "                \"item_satisfaction\": logging_satisfaction,\n",
        "                \"model_prob\": model_prob.item(),\n",
        "                \"ab_test_satisfaction\": target_satisfaction,\n",
        "            }\n",
        "        )\n",
        "\n",
        "        logs.append(log)\n",
        "\n",
        "    return pd.DataFrame(logs)"
      ]
    },
    {
      "cell_type": "markdown",
      "id": "bf3731a5-75ba-4522-889a-a3bdba5d46dc",
      "metadata": {
        "id": "bf3731a5-75ba-4522-889a-a3bdba5d46dc"
      },
      "source": [
        "Here is what ur logged data now looks like:"
      ]
    },
    {
      "cell_type": "code",
      "execution_count": 72,
      "id": "4ff18b51-9484-4e15-9f73-c8950343fac9",
      "metadata": {
        "id": "4ff18b51-9484-4e15-9f73-c8950343fac9",
        "outputId": "65396b46-04de-46b7-96b3-d14f8c7435cb",
        "colab": {
          "base_uri": "https://localhost:8080/",
          "height": 206
        }
      },
      "outputs": [
        {
          "output_type": "execute_result",
          "data": {
            "text/plain": [
              "  user_features item_placed  item_prob  item_satisfaction  model_prob  \\\n",
              "0         user1   product_g   0.142857                  0        0.20   \n",
              "1         user2   product_a   0.142857                  0        0.10   \n",
              "2         user1   product_b   0.142857                150        0.10   \n",
              "3         user1   product_e   0.142857                  0        0.15   \n",
              "4         user1   product_f   0.142857                  0        0.15   \n",
              "\n",
              "   ab_test_satisfaction  \n",
              "0                   100  \n",
              "1                     0  \n",
              "2                     0  \n",
              "3                   150  \n",
              "4                     0  "
            ],
            "text/html": [
              "\n",
              "  <div id=\"df-d392577f-dd45-4da6-befb-c0d8b3622a43\">\n",
              "    <div class=\"colab-df-container\">\n",
              "      <div>\n",
              "<style scoped>\n",
              "    .dataframe tbody tr th:only-of-type {\n",
              "        vertical-align: middle;\n",
              "    }\n",
              "\n",
              "    .dataframe tbody tr th {\n",
              "        vertical-align: top;\n",
              "    }\n",
              "\n",
              "    .dataframe thead th {\n",
              "        text-align: right;\n",
              "    }\n",
              "</style>\n",
              "<table border=\"1\" class=\"dataframe\">\n",
              "  <thead>\n",
              "    <tr style=\"text-align: right;\">\n",
              "      <th></th>\n",
              "      <th>user_features</th>\n",
              "      <th>item_placed</th>\n",
              "      <th>item_prob</th>\n",
              "      <th>item_satisfaction</th>\n",
              "      <th>model_prob</th>\n",
              "      <th>ab_test_satisfaction</th>\n",
              "    </tr>\n",
              "  </thead>\n",
              "  <tbody>\n",
              "    <tr>\n",
              "      <th>0</th>\n",
              "      <td>user1</td>\n",
              "      <td>product_g</td>\n",
              "      <td>0.142857</td>\n",
              "      <td>0</td>\n",
              "      <td>0.20</td>\n",
              "      <td>100</td>\n",
              "    </tr>\n",
              "    <tr>\n",
              "      <th>1</th>\n",
              "      <td>user2</td>\n",
              "      <td>product_a</td>\n",
              "      <td>0.142857</td>\n",
              "      <td>0</td>\n",
              "      <td>0.10</td>\n",
              "      <td>0</td>\n",
              "    </tr>\n",
              "    <tr>\n",
              "      <th>2</th>\n",
              "      <td>user1</td>\n",
              "      <td>product_b</td>\n",
              "      <td>0.142857</td>\n",
              "      <td>150</td>\n",
              "      <td>0.10</td>\n",
              "      <td>0</td>\n",
              "    </tr>\n",
              "    <tr>\n",
              "      <th>3</th>\n",
              "      <td>user1</td>\n",
              "      <td>product_e</td>\n",
              "      <td>0.142857</td>\n",
              "      <td>0</td>\n",
              "      <td>0.15</td>\n",
              "      <td>150</td>\n",
              "    </tr>\n",
              "    <tr>\n",
              "      <th>4</th>\n",
              "      <td>user1</td>\n",
              "      <td>product_f</td>\n",
              "      <td>0.142857</td>\n",
              "      <td>0</td>\n",
              "      <td>0.15</td>\n",
              "      <td>0</td>\n",
              "    </tr>\n",
              "  </tbody>\n",
              "</table>\n",
              "</div>\n",
              "      <button class=\"colab-df-convert\" onclick=\"convertToInteractive('df-d392577f-dd45-4da6-befb-c0d8b3622a43')\"\n",
              "              title=\"Convert this dataframe to an interactive table.\"\n",
              "              style=\"display:none;\">\n",
              "        \n",
              "  <svg xmlns=\"http://www.w3.org/2000/svg\" height=\"24px\"viewBox=\"0 0 24 24\"\n",
              "       width=\"24px\">\n",
              "    <path d=\"M0 0h24v24H0V0z\" fill=\"none\"/>\n",
              "    <path d=\"M18.56 5.44l.94 2.06.94-2.06 2.06-.94-2.06-.94-.94-2.06-.94 2.06-2.06.94zm-11 1L8.5 8.5l.94-2.06 2.06-.94-2.06-.94L8.5 2.5l-.94 2.06-2.06.94zm10 10l.94 2.06.94-2.06 2.06-.94-2.06-.94-.94-2.06-.94 2.06-2.06.94z\"/><path d=\"M17.41 7.96l-1.37-1.37c-.4-.4-.92-.59-1.43-.59-.52 0-1.04.2-1.43.59L10.3 9.45l-7.72 7.72c-.78.78-.78 2.05 0 2.83L4 21.41c.39.39.9.59 1.41.59.51 0 1.02-.2 1.41-.59l7.78-7.78 2.81-2.81c.8-.78.8-2.07 0-2.86zM5.41 20L4 18.59l7.72-7.72 1.47 1.35L5.41 20z\"/>\n",
              "  </svg>\n",
              "      </button>\n",
              "      \n",
              "  <style>\n",
              "    .colab-df-container {\n",
              "      display:flex;\n",
              "      flex-wrap:wrap;\n",
              "      gap: 12px;\n",
              "    }\n",
              "\n",
              "    .colab-df-convert {\n",
              "      background-color: #E8F0FE;\n",
              "      border: none;\n",
              "      border-radius: 50%;\n",
              "      cursor: pointer;\n",
              "      display: none;\n",
              "      fill: #1967D2;\n",
              "      height: 32px;\n",
              "      padding: 0 0 0 0;\n",
              "      width: 32px;\n",
              "    }\n",
              "\n",
              "    .colab-df-convert:hover {\n",
              "      background-color: #E2EBFA;\n",
              "      box-shadow: 0px 1px 2px rgba(60, 64, 67, 0.3), 0px 1px 3px 1px rgba(60, 64, 67, 0.15);\n",
              "      fill: #174EA6;\n",
              "    }\n",
              "\n",
              "    [theme=dark] .colab-df-convert {\n",
              "      background-color: #3B4455;\n",
              "      fill: #D2E3FC;\n",
              "    }\n",
              "\n",
              "    [theme=dark] .colab-df-convert:hover {\n",
              "      background-color: #434B5C;\n",
              "      box-shadow: 0px 1px 3px 1px rgba(0, 0, 0, 0.15);\n",
              "      filter: drop-shadow(0px 1px 2px rgba(0, 0, 0, 0.3));\n",
              "      fill: #FFFFFF;\n",
              "    }\n",
              "  </style>\n",
              "\n",
              "      <script>\n",
              "        const buttonEl =\n",
              "          document.querySelector('#df-d392577f-dd45-4da6-befb-c0d8b3622a43 button.colab-df-convert');\n",
              "        buttonEl.style.display =\n",
              "          google.colab.kernel.accessAllowed ? 'block' : 'none';\n",
              "\n",
              "        async function convertToInteractive(key) {\n",
              "          const element = document.querySelector('#df-d392577f-dd45-4da6-befb-c0d8b3622a43');\n",
              "          const dataTable =\n",
              "            await google.colab.kernel.invokeFunction('convertToInteractive',\n",
              "                                                     [key], {});\n",
              "          if (!dataTable) return;\n",
              "\n",
              "          const docLinkHtml = 'Like what you see? Visit the ' +\n",
              "            '<a target=\"_blank\" href=https://colab.research.google.com/notebooks/data_table.ipynb>data table notebook</a>'\n",
              "            + ' to learn more about interactive tables.';\n",
              "          element.innerHTML = '';\n",
              "          dataTable['output_type'] = 'display_data';\n",
              "          await google.colab.output.renderOutput(dataTable, element);\n",
              "          const docLink = document.createElement('div');\n",
              "          docLink.innerHTML = docLinkHtml;\n",
              "          element.appendChild(docLink);\n",
              "        }\n",
              "      </script>\n",
              "    </div>\n",
              "  </div>\n",
              "  "
            ]
          },
          "metadata": {},
          "execution_count": 72
        }
      ],
      "source": [
        "logs = create_logs(n=1000)\n",
        "logs.head(5)"
      ]
    },
    {
      "cell_type": "code",
      "execution_count": 73,
      "id": "6030ee25-943c-4c1e-8031-f780506830f5",
      "metadata": {
        "id": "6030ee25-943c-4c1e-8031-f780506830f5",
        "outputId": "871111f9-4655-4129-8eb8-12a8b23028a6",
        "colab": {
          "base_uri": "https://localhost:8080/",
          "height": 363
        }
      },
      "outputs": [
        {
          "output_type": "execute_result",
          "data": {
            "text/plain": [
              "    user_features item_placed  item_prob  item_satisfaction\n",
              "725         user3   product_g   0.142857                160\n",
              "602         user2   product_f   0.142857                  0\n",
              "626         user3   product_g   0.142857                160\n",
              "69          user3   product_d   0.142857                  0\n",
              "358         user2   product_c   0.142857                  0\n",
              "331         user3   product_f   0.142857                120\n",
              "274         user3   product_e   0.142857                  0\n",
              "359         user1   product_f   0.142857                  0\n",
              "742         user2   product_a   0.142857                  0\n",
              "739         user2   product_a   0.142857                  0"
            ],
            "text/html": [
              "\n",
              "  <div id=\"df-b2dd8651-7731-4c79-b769-974b3a29bd92\">\n",
              "    <div class=\"colab-df-container\">\n",
              "      <div>\n",
              "<style scoped>\n",
              "    .dataframe tbody tr th:only-of-type {\n",
              "        vertical-align: middle;\n",
              "    }\n",
              "\n",
              "    .dataframe tbody tr th {\n",
              "        vertical-align: top;\n",
              "    }\n",
              "\n",
              "    .dataframe thead th {\n",
              "        text-align: right;\n",
              "    }\n",
              "</style>\n",
              "<table border=\"1\" class=\"dataframe\">\n",
              "  <thead>\n",
              "    <tr style=\"text-align: right;\">\n",
              "      <th></th>\n",
              "      <th>user_features</th>\n",
              "      <th>item_placed</th>\n",
              "      <th>item_prob</th>\n",
              "      <th>item_satisfaction</th>\n",
              "    </tr>\n",
              "  </thead>\n",
              "  <tbody>\n",
              "    <tr>\n",
              "      <th>725</th>\n",
              "      <td>user3</td>\n",
              "      <td>product_g</td>\n",
              "      <td>0.142857</td>\n",
              "      <td>160</td>\n",
              "    </tr>\n",
              "    <tr>\n",
              "      <th>602</th>\n",
              "      <td>user2</td>\n",
              "      <td>product_f</td>\n",
              "      <td>0.142857</td>\n",
              "      <td>0</td>\n",
              "    </tr>\n",
              "    <tr>\n",
              "      <th>626</th>\n",
              "      <td>user3</td>\n",
              "      <td>product_g</td>\n",
              "      <td>0.142857</td>\n",
              "      <td>160</td>\n",
              "    </tr>\n",
              "    <tr>\n",
              "      <th>69</th>\n",
              "      <td>user3</td>\n",
              "      <td>product_d</td>\n",
              "      <td>0.142857</td>\n",
              "      <td>0</td>\n",
              "    </tr>\n",
              "    <tr>\n",
              "      <th>358</th>\n",
              "      <td>user2</td>\n",
              "      <td>product_c</td>\n",
              "      <td>0.142857</td>\n",
              "      <td>0</td>\n",
              "    </tr>\n",
              "    <tr>\n",
              "      <th>331</th>\n",
              "      <td>user3</td>\n",
              "      <td>product_f</td>\n",
              "      <td>0.142857</td>\n",
              "      <td>120</td>\n",
              "    </tr>\n",
              "    <tr>\n",
              "      <th>274</th>\n",
              "      <td>user3</td>\n",
              "      <td>product_e</td>\n",
              "      <td>0.142857</td>\n",
              "      <td>0</td>\n",
              "    </tr>\n",
              "    <tr>\n",
              "      <th>359</th>\n",
              "      <td>user1</td>\n",
              "      <td>product_f</td>\n",
              "      <td>0.142857</td>\n",
              "      <td>0</td>\n",
              "    </tr>\n",
              "    <tr>\n",
              "      <th>742</th>\n",
              "      <td>user2</td>\n",
              "      <td>product_a</td>\n",
              "      <td>0.142857</td>\n",
              "      <td>0</td>\n",
              "    </tr>\n",
              "    <tr>\n",
              "      <th>739</th>\n",
              "      <td>user2</td>\n",
              "      <td>product_a</td>\n",
              "      <td>0.142857</td>\n",
              "      <td>0</td>\n",
              "    </tr>\n",
              "  </tbody>\n",
              "</table>\n",
              "</div>\n",
              "      <button class=\"colab-df-convert\" onclick=\"convertToInteractive('df-b2dd8651-7731-4c79-b769-974b3a29bd92')\"\n",
              "              title=\"Convert this dataframe to an interactive table.\"\n",
              "              style=\"display:none;\">\n",
              "        \n",
              "  <svg xmlns=\"http://www.w3.org/2000/svg\" height=\"24px\"viewBox=\"0 0 24 24\"\n",
              "       width=\"24px\">\n",
              "    <path d=\"M0 0h24v24H0V0z\" fill=\"none\"/>\n",
              "    <path d=\"M18.56 5.44l.94 2.06.94-2.06 2.06-.94-2.06-.94-.94-2.06-.94 2.06-2.06.94zm-11 1L8.5 8.5l.94-2.06 2.06-.94-2.06-.94L8.5 2.5l-.94 2.06-2.06.94zm10 10l.94 2.06.94-2.06 2.06-.94-2.06-.94-.94-2.06-.94 2.06-2.06.94z\"/><path d=\"M17.41 7.96l-1.37-1.37c-.4-.4-.92-.59-1.43-.59-.52 0-1.04.2-1.43.59L10.3 9.45l-7.72 7.72c-.78.78-.78 2.05 0 2.83L4 21.41c.39.39.9.59 1.41.59.51 0 1.02-.2 1.41-.59l7.78-7.78 2.81-2.81c.8-.78.8-2.07 0-2.86zM5.41 20L4 18.59l7.72-7.72 1.47 1.35L5.41 20z\"/>\n",
              "  </svg>\n",
              "      </button>\n",
              "      \n",
              "  <style>\n",
              "    .colab-df-container {\n",
              "      display:flex;\n",
              "      flex-wrap:wrap;\n",
              "      gap: 12px;\n",
              "    }\n",
              "\n",
              "    .colab-df-convert {\n",
              "      background-color: #E8F0FE;\n",
              "      border: none;\n",
              "      border-radius: 50%;\n",
              "      cursor: pointer;\n",
              "      display: none;\n",
              "      fill: #1967D2;\n",
              "      height: 32px;\n",
              "      padding: 0 0 0 0;\n",
              "      width: 32px;\n",
              "    }\n",
              "\n",
              "    .colab-df-convert:hover {\n",
              "      background-color: #E2EBFA;\n",
              "      box-shadow: 0px 1px 2px rgba(60, 64, 67, 0.3), 0px 1px 3px 1px rgba(60, 64, 67, 0.15);\n",
              "      fill: #174EA6;\n",
              "    }\n",
              "\n",
              "    [theme=dark] .colab-df-convert {\n",
              "      background-color: #3B4455;\n",
              "      fill: #D2E3FC;\n",
              "    }\n",
              "\n",
              "    [theme=dark] .colab-df-convert:hover {\n",
              "      background-color: #434B5C;\n",
              "      box-shadow: 0px 1px 3px 1px rgba(0, 0, 0, 0.15);\n",
              "      filter: drop-shadow(0px 1px 2px rgba(0, 0, 0, 0.3));\n",
              "      fill: #FFFFFF;\n",
              "    }\n",
              "  </style>\n",
              "\n",
              "      <script>\n",
              "        const buttonEl =\n",
              "          document.querySelector('#df-b2dd8651-7731-4c79-b769-974b3a29bd92 button.colab-df-convert');\n",
              "        buttonEl.style.display =\n",
              "          google.colab.kernel.accessAllowed ? 'block' : 'none';\n",
              "\n",
              "        async function convertToInteractive(key) {\n",
              "          const element = document.querySelector('#df-b2dd8651-7731-4c79-b769-974b3a29bd92');\n",
              "          const dataTable =\n",
              "            await google.colab.kernel.invokeFunction('convertToInteractive',\n",
              "                                                     [key], {});\n",
              "          if (!dataTable) return;\n",
              "\n",
              "          const docLinkHtml = 'Like what you see? Visit the ' +\n",
              "            '<a target=\"_blank\" href=https://colab.research.google.com/notebooks/data_table.ipynb>data table notebook</a>'\n",
              "            + ' to learn more about interactive tables.';\n",
              "          element.innerHTML = '';\n",
              "          dataTable['output_type'] = 'display_data';\n",
              "          await google.colab.output.renderOutput(dataTable, element);\n",
              "          const docLink = document.createElement('div');\n",
              "          docLink.innerHTML = docLinkHtml;\n",
              "          element.appendChild(docLink);\n",
              "        }\n",
              "      </script>\n",
              "    </div>\n",
              "  </div>\n",
              "  "
            ]
          },
          "metadata": {},
          "execution_count": 73
        }
      ],
      "source": [
        "logs[[\"user_features\", \"item_placed\", \"item_prob\", \"item_satisfaction\"]].sample(n=10)"
      ]
    },
    {
      "cell_type": "markdown",
      "id": "cc6a4c42-467f-4dfd-8e75-3d58a9c77781",
      "metadata": {
        "id": "cc6a4c42-467f-4dfd-8e75-3d58a9c77781"
      },
      "source": [
        "With all the dataset ready, lets compute the mean rewards (satisfaction) for the logging/production policy and the target policy:"
      ]
    },
    {
      "cell_type": "code",
      "execution_count": 74,
      "id": "082465c7-b149-40ac-aa40-a44116d2a7bf",
      "metadata": {
        "id": "082465c7-b149-40ac-aa40-a44116d2a7bf",
        "outputId": "55381979-de11-4c09-9347-ff3ef4fac384",
        "colab": {
          "base_uri": "https://localhost:8080/"
        }
      },
      "outputs": [
        {
          "output_type": "stream",
          "name": "stdout",
          "text": [
            "Expected reward from logging policy:  63.10\n",
            "Expected reward from target policy:  100.32\n",
            "CPU times: user 12.7 s, sys: 569 ms, total: 13.2 s\n",
            "Wall time: 12.5 s\n"
          ]
        }
      ],
      "source": [
        "%%time\n",
        "sim = create_logs(n=100000)\n",
        "logging_policy = sim[\"item_satisfaction\"].mean()\n",
        "target_policy = sim[\"ab_test_satisfaction\"].mean()\n",
        "\n",
        "print(f\"Expected reward from logging policy: {logging_policy: .2f}\")\n",
        "print(f\"Expected reward from target policy: {target_policy: .2f}\")"
      ]
    },
    {
      "cell_type": "markdown",
      "id": "37a954a7-a0ea-4bec-9d60-3ec0ea549f40",
      "metadata": {
        "id": "37a954a7-a0ea-4bec-9d60-3ec0ea549f40"
      },
      "source": [
        "Now lets implement the IPS estimator:"
      ]
    },
    {
      "cell_type": "code",
      "execution_count": 77,
      "id": "14d1c5dc-8954-4ff6-9b96-7a49076d062a",
      "metadata": {
        "id": "14d1c5dc-8954-4ff6-9b96-7a49076d062a"
      },
      "outputs": [],
      "source": [
        "def compute_ips(df):\n",
        "    assert {\"model_prob\", \"item_prob\", \"item_satisfaction\"}.issubset(df.columns)\n",
        "    return (df[\"model_prob\"] / df[\"item_prob\"] * df[\"item_satisfaction\"]).mean()"
      ]
    },
    {
      "cell_type": "code",
      "execution_count": 78,
      "id": "f574b73d-38b7-4504-addc-47fd23839d40",
      "metadata": {
        "id": "f574b73d-38b7-4504-addc-47fd23839d40",
        "outputId": "ee67b035-fc57-4531-a197-8e35f97d0139",
        "colab": {
          "base_uri": "https://localhost:8080/"
        }
      },
      "outputs": [
        {
          "output_type": "execute_result",
          "data": {
            "text/plain": [
              "97.8838"
            ]
          },
          "metadata": {},
          "execution_count": 78
        }
      ],
      "source": [
        "ips_est = compute_ips(logs)\n",
        "ips_est"
      ]
    },
    {
      "cell_type": "markdown",
      "id": "8d2a93e4-0e1d-45e1-846f-d7fd73bfb9de",
      "metadata": {
        "id": "8d2a93e4-0e1d-45e1-846f-d7fd73bfb9de"
      },
      "source": [
        "Computing the IPS estimator on our 1,000 entry log gives an average revenue of 109.34 (very close to the true performance of 100.99) compared with the average revenue of the logging policy of 63.36. Therefore, we should be confident to deploy our target policy to production and do an AB test comparing it with the logging policy as a final validation."
      ]
    },
    {
      "cell_type": "markdown",
      "id": "ce6d30c6-7684-47d6-a65c-523138f5ee5a",
      "metadata": {
        "id": "ce6d30c6-7684-47d6-a65c-523138f5ee5a"
      },
      "source": [
        "## Goals for this part of project:\n",
        "\n",
        "Finish the implementation of two additional off-policy estimators:\n",
        "1. Capped IPS\n",
        "2. Normalized Capped Importance Sampling (NCIS)\n",
        "\n",
        "Feel free to try different capping thresholds, and compare the reward and standard deviations of these estimators with the IPS estimator and mean reward.\n"
      ]
    },
    {
      "cell_type": "code",
      "execution_count": 96,
      "id": "5ec2fbc1-4b2d-4984-bc83-34d47cb067b4",
      "metadata": {
        "id": "5ec2fbc1-4b2d-4984-bc83-34d47cb067b4"
      },
      "outputs": [],
      "source": [
        "def compute_capped_ips(logs, cap=1000):\n",
        "    _ips_no_reward = logs[\"model_prob\"] / logs[\"item_prob\"]\n",
        "    return (_ips_no_reward.where(_ips_no_reward<=cap, cap) * logs[\"item_satisfaction\"]).mean()"
      ]
    },
    {
      "cell_type": "code",
      "execution_count": 98,
      "id": "e4b03cee-1438-4f1f-a170-4b535979b231",
      "metadata": {
        "id": "e4b03cee-1438-4f1f-a170-4b535979b231"
      },
      "outputs": [],
      "source": [
        "def compute_ncis(logs):\n",
        "    _ips_no_reward = logs[\"model_prob\"] / logs[\"item_prob\"]\n",
        "\n",
        "    return (_ips_no_reward/_ips_no_reward.mean() * logs[\"item_satisfaction\"]).mean()"
      ]
    },
    {
      "cell_type": "code",
      "source": [
        "ips_est = compute_capped_ips(logs)\n",
        "ips_est"
      ],
      "metadata": {
        "colab": {
          "base_uri": "https://localhost:8080/"
        },
        "id": "7BjbrpjE_3d3",
        "outputId": "fe5edaec-f172-42b9-8ad4-c83562b5f512"
      },
      "id": "7BjbrpjE_3d3",
      "execution_count": 99,
      "outputs": [
        {
          "output_type": "execute_result",
          "data": {
            "text/plain": [
              "97.8838"
            ]
          },
          "metadata": {},
          "execution_count": 99
        }
      ]
    },
    {
      "cell_type": "code",
      "source": [
        "ips_est = compute_ncis(logs)\n",
        "ips_est"
      ],
      "metadata": {
        "colab": {
          "base_uri": "https://localhost:8080/"
        },
        "id": "8x73AgLF_5qc",
        "outputId": "27f0d28a-fedc-466a-f59c-f23ad3a8ca6f"
      },
      "id": "8x73AgLF_5qc",
      "execution_count": 100,
      "outputs": [
        {
          "output_type": "execute_result",
          "data": {
            "text/plain": [
              "103.0540201930872"
            ]
          },
          "metadata": {},
          "execution_count": 100
        }
      ]
    },
    {
      "cell_type": "code",
      "source": [
        ""
      ],
      "metadata": {
        "id": "AByrvSMMAKII"
      },
      "id": "AByrvSMMAKII",
      "execution_count": null,
      "outputs": []
    }
  ],
  "metadata": {
    "environment": {
      "kernel": "python3",
      "name": "tf2-gpu.2-6.m89",
      "type": "gcloud",
      "uri": "gcr.io/deeplearning-platform-release/tf2-gpu.2-6:m89"
    },
    "kernelspec": {
      "display_name": "Python 3",
      "language": "python",
      "name": "python3"
    },
    "language_info": {
      "codemirror_mode": {
        "name": "ipython",
        "version": 3
      },
      "file_extension": ".py",
      "mimetype": "text/x-python",
      "name": "python",
      "nbconvert_exporter": "python",
      "pygments_lexer": "ipython3",
      "version": "3.7.12"
    },
    "colab": {
      "name": "week4-evaluation.ipynb",
      "provenance": [],
      "collapsed_sections": []
    }
  },
  "nbformat": 4,
  "nbformat_minor": 5
}